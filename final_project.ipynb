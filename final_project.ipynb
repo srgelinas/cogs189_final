{
 "cells": [
  {
   "attachments": {},
   "cell_type": "markdown",
   "metadata": {},
   "source": [
    "# COGS 189 Final Project"
   ]
  },
  {
   "attachments": {},
   "cell_type": "markdown",
   "metadata": {},
   "source": [
    "This project aims to analyze emotions to a social media feed using BCI</br>\n",
    "Group Members: </br>\n",
    "Stephen Gelinas (A15816513) </br>\n",
    "Aditya Tomar (A17162996) </br>\n",
    "Shay Samat </br>\n",
    "Rolando Restua </br>\n",
    "Kevin Wong "
   ]
  },
  {
   "attachments": {},
   "cell_type": "markdown",
   "metadata": {},
   "source": [
    "## Data Loading"
   ]
  },
  {
   "attachments": {},
   "cell_type": "markdown",
   "metadata": {},
   "source": [
    "We will first load and inspect the raw EEG data we collected with OpenBCI"
   ]
  },
  {
   "cell_type": "code",
   "execution_count": null,
   "metadata": {},
   "outputs": [],
   "source": [
    "import pandas as pd\n",
    "from IPython.display import Image\n",
    "import numpy as np\n",
    "import mne\n",
    "import matplotlib as plt\n",
    "import matplotlib.pyplot as plt"
   ]
  },
  {
   "cell_type": "code",
   "execution_count": null,
   "metadata": {},
   "outputs": [],
   "source": [
    "df = pd.read_csv('data/eeg.txt')\n",
    "df.head()"
   ]
  },
  {
   "attachments": {},
   "cell_type": "markdown",
   "metadata": {},
   "source": [
    "There appears to be no missing values from the data collection process in the raw EEG data"
   ]
  },
  {
   "cell_type": "code",
   "execution_count": null,
   "metadata": {},
   "outputs": [],
   "source": [
    "df.isna().sum()"
   ]
  },
  {
   "attachments": {},
   "cell_type": "markdown",
   "metadata": {},
   "source": [
    "The image below illustrates locations of the 8 selected channels for the data collection process (including GND and REF) "
   ]
  },
  {
   "cell_type": "code",
   "execution_count": null,
   "metadata": {},
   "outputs": [],
   "source": [
    "Image(\"data/channels.png\", width=400)"
   ]
  },
  {
   "attachments": {},
   "cell_type": "markdown",
   "metadata": {},
   "source": [
    "## Data Cleaning/Preprocessing"
   ]
  },
  {
   "cell_type": "code",
   "execution_count": null,
   "metadata": {},
   "outputs": [],
   "source": [
    "# drop data from these channels\n",
    "dropped = [' Other', ' Other.7', ' Analog Channel 0', ' Analog Channel 1', ' Analog Channel 2']\n",
    "df_cleaned = df.drop(columns=dropped)"
   ]
  },
  {
   "cell_type": "code",
   "execution_count": null,
   "metadata": {},
   "outputs": [],
   "source": [
    "def plot_raw_data(df):\n",
    "    # Create subplots\n",
    "    df = df.iloc[1: , :]\n",
    "    exg = [i for i in df.columns if 'EXG' in i]\n",
    "    plt.rcParams[\"figure.figsize\"] = (40,20)\n",
    "    fig, (ax1, ax2, ax3, ax4, ax5, ax6, ax7, ax8) = plt.subplots(nrows=8, ncols=1, sharex=True)\n",
    "\n",
    "    # Plot data on each subplot\n",
    "    df[exg[0]].plot(ax=ax1)\n",
    "    ax1.set_title('Fp1')\n",
    "    df[exg[1]].plot(ax=ax2)\n",
    "    ax2.set_title('Fz')\n",
    "    df[exg[2]].plot(ax=ax3)\n",
    "    ax3.set_title('Cz')\n",
    "    df[exg[3]].plot(ax=ax4)\n",
    "    ax4.set_title('Pz')\n",
    "    df[exg[4]].plot(ax=ax5)\n",
    "    ax5.set_title('O1')\n",
    "    df[exg[5]].plot(ax=ax6)\n",
    "    ax6.set_title('O2')\n",
    "    df[exg[6]].plot(ax=ax7)\n",
    "    ax7.set_title('C3')\n",
    "    df[exg[7]].plot(ax=ax8)\n",
    "    ax8.set_title('C4')\n",
    "    ax8.set_xlabel('Timestamp')\n",
    "\n",
    "    # Show the plot\n",
    "    plt.show()\n"
   ]
  },
  {
   "cell_type": "code",
   "execution_count": null,
   "metadata": {},
   "outputs": [],
   "source": [
    "# Get the sampling frequency from the timestamps\n",
    "sfreq = 1 / np.mean(np.diff(df[' Timestamp']))\n",
    "\n",
    "# Convert the data to MNE format\n",
    "ch_names = df.columns[1:9].tolist()\n",
    "ch_types = ['eeg'] * len(ch_names)\n",
    "info = mne.create_info(ch_names=ch_names, sfreq=sfreq, ch_types=ch_types)\n",
    "data = df[ch_names].values.T.astype(np.float32)\n",
    "raw = mne.io.RawArray(data, info)"
   ]
  },
  {
   "cell_type": "code",
   "execution_count": null,
   "metadata": {},
   "outputs": [],
   "source": [
    "plot_raw_data(df)"
   ]
  },
  {
   "cell_type": "code",
   "execution_count": null,
   "metadata": {},
   "outputs": [],
   "source": [
    "# Plot raw PSD\n",
    "raw.plot_psd()"
   ]
  },
  {
   "cell_type": "code",
   "execution_count": null,
   "metadata": {},
   "outputs": [],
   "source": [
    "# Get the accelerometer data\n",
    "accelerometer_data = df[[' Accel Channel 0', ' Accel Channel 1', ' Accel Channel 2']].values.T.astype(np.float32)\n",
    "\n",
    "# Calculate the norm of the accelerometer data to get the overall acceleration\n",
    "acceleration = np.linalg.norm(accelerometer_data, axis=0)\n",
    "\n",
    "# Identify and remove segments with high acceleration (i.e. head movements)\n",
    "threshold = np.percentile(acceleration, 95)\n",
    "bad_segments = np.where(acceleration > threshold)[0]\n",
    "raw.annotations.append(bad_segments, [1] * len(bad_segments), 'bad')\n",
    "\n",
    "# Interpolate bad segments\n",
    "raw.interpolate_bads(reset_bads=True)"
   ]
  },
  {
   "cell_type": "code",
   "execution_count": null,
   "metadata": {},
   "outputs": [],
   "source": [
    "channels = ['Fp1', 'Fz', 'Cz', 'Pz', 'O1', 'O2', 'C3', 'C4'] "
   ]
  },
  {
   "cell_type": "code",
   "execution_count": null,
   "metadata": {},
   "outputs": [],
   "source": [
    "# Apply high-pass filter to remove eye movements and remove slow drifts\n",
    "high_pass = raw.filter(l_freq=1.0, h_freq=None)\n",
    "high_pass = high_pass.get_data().T\n",
    "high_pass = pd.DataFrame(high_pass)\n",
    "high_pass.columns = ch_names\n",
    "high_pass.head()"
   ]
  },
  {
   "cell_type": "code",
   "execution_count": null,
   "metadata": {},
   "outputs": [],
   "source": [
    "plot_raw_data(high_pass)"
   ]
  },
  {
   "cell_type": "code",
   "execution_count": null,
   "metadata": {},
   "outputs": [],
   "source": [
    "raw.plot_psd()"
   ]
  },
  {
   "cell_type": "code",
   "execution_count": null,
   "metadata": {},
   "outputs": [],
   "source": [
    "# Apply low-pass filter to remove eye blinks and high-frequency noise\n",
    "\n",
    "low_pass = raw.filter(l_freq= None, h_freq=40.0)\n",
    "low_pass = low_pass.get_data().T\n",
    "low_pass = pd.DataFrame(low_pass)\n",
    "low_pass.columns = ch_names\n",
    "low_pass.head()"
   ]
  },
  {
   "cell_type": "code",
   "execution_count": null,
   "metadata": {},
   "outputs": [],
   "source": [
    "plot_raw_data(low_pass)"
   ]
  },
  {
   "cell_type": "code",
   "execution_count": null,
   "metadata": {},
   "outputs": [],
   "source": [
    "raw.plot_psd()"
   ]
  },
  {
   "cell_type": "code",
   "execution_count": null,
   "metadata": {},
   "outputs": [],
   "source": [
    "# Get the preprocessed data as a numpy array\n",
    "df_cleaned = raw.get_data()"
   ]
  },
  {
   "cell_type": "code",
   "execution_count": null,
   "metadata": {},
   "outputs": [],
   "source": [
    "# Set epoch length to 10 seconds\n",
    "epoch_length = 10\n",
    "\n",
    "# Compute the number of samples in an epoch\n",
    "n_samples_per_epoch = int(epoch_length * raw.info['sfreq'])\n",
    "\n",
    "# Create an array of epoch start times\n",
    "epoch_starts = range(0, raw.n_times - n_samples_per_epoch + 1, n_samples_per_epoch)\n",
    "\n",
    "# Define event codes for each ID\n",
    "event_dict = {'happy': 1, 'sad': 2, 'neutral': 3}\n",
    "\n",
    "# Create an array of event codes for each epoch\n",
    "epoch_ids = ['sad', 'neutral', 'neutral', 'neutral', 'happy', 'sad', 'happy', 'happy', 'sad', 'happy',\n",
    "             'neutral', 'sad', 'sad', 'neutral', 'happy', 'sad', 'sad', 'neutral', 'happy', 'neutral',\n",
    "             'sad', 'happy', 'neutral', 'neutral', 'happy', 'sad', 'sad', 'neutral', 'happy', 'neutral',\n",
    "             'sad', 'sad', 'neutral', 'sad', 'neutral', 'happy', 'neutral', 'neutral', 'happy', 'happy',\n",
    "             'sad', 'sad', 'sad', 'happy', 'sad', 'happy', 'sad', 'happy', 'sad', 'sad', 'neutral',\n",
    "             'happy', 'neutral', 'happy', 'happy', 'happy', 'happy', 'happy', 'sad', 'neutral', 'happy',\n",
    "             'neutral', 'sad', 'neutral', 'sad', 'neutral', 'sad', 'neutral', 'happy', 'sad', 'sad',\n",
    "             'happy', 'happy', 'neutral', 'happy', 'happy', 'neutral', 'neutral', 'happy', 'neutral',\n",
    "             'sad', 'neutral', 'happy', 'happy', 'sad', 'sad', 'neutral', 'neutral', 'sad', 'neutral']\n",
    "\n",
    "event_codes = np.array([event_dict[id] for id in epoch_ids])\n",
    "event_id = {'happy': 1, 'sad': 2, 'neutral': 3}\n",
    "\n",
    "# Create an events array\n",
    "events = np.column_stack((range(len(event_codes)), np.zeros(len(event_codes)), event_codes)).astype(int)\n",
    "\n",
    "# Use mne.EpochsArray to create epochs of fixed duration with event information\n",
    "epochs_data = [raw.get_data(start=start, stop=start + n_samples_per_epoch) for start in epoch_starts]\n",
    "epochs_array = mne.EpochsArray(data=epochs_data[9:], info=raw.info, events=events, event_id=event_id)\n",
    "epochs_array.rename_channels(dict(zip(epochs_array.ch_names, channels)))\n",
    "\n",
    "# Print the number of epochs\n",
    "print(f\"Number of epochs: {len(epochs_array)}\")\n"
   ]
  },
  {
   "cell_type": "code",
   "execution_count": null,
   "metadata": {},
   "outputs": [],
   "source": [
    "happy_epochs = epochs_array['happy']\n",
    "sad_epochs = epochs_array['sad']\n",
    "neutral_epochs = epochs_array['neutral']\n",
    "\n",
    "\n",
    "print(f\"Number of happy epochs: {len(happy_epochs)}\")\n",
    "print(f\"Number of sad epochs: {len(sad_epochs)}\")\n",
    "print(f\"Number of neutral epochs: {len(neutral_epochs)}\")"
   ]
  },
  {
   "cell_type": "code",
   "execution_count": null,
   "metadata": {},
   "outputs": [],
   "source": [
    "# Define the number of subplots and their layout\n",
    "nrows = len(channels)\n",
    "ncols = 3\n",
    "fig, axs = plt.subplots(nrows=nrows, ncols=ncols, figsize=(15, 15))\n",
    "\n",
    "# Define the colors for each epoch\n",
    "colors = {'happy': 'blue', 'sad': 'red', 'neutral': 'green'}\n",
    "\n",
    "# Define the epoch ids in the order they appear in the epoch arrays\n",
    "epoch_ids = ['happy', 'sad', 'neutral']\n",
    "\n",
    "# Iterate over each channel\n",
    "for i, channel in enumerate(channels):\n",
    "    # Get the data for the channel for each epoch\n",
    "    happy_data = happy_epochs.get_data()[:, i, :]\n",
    "    sad_data = sad_epochs.get_data()[:, i, :]\n",
    "    neutral_data = neutral_epochs.get_data()[:, i, :]\n",
    "    \n",
    "    # Plot the data for each epoch in a separate subplot\n",
    "    for j, epoch_data in enumerate([happy_data, sad_data, neutral_data]):\n",
    "        axs[i, j].plot(epoch_data.T, color=colors[epoch_ids[j]])\n",
    "        axs[i, j].set_title(f'{channel} - {epoch_ids[j]}')\n",
    "        axs[i, j].set_xlabel('Time')\n",
    "        axs[i, j].set_ylabel('Amplitude')\n",
    "\n",
    "# Add a legend for the epoch colors\n",
    "fig.legend(handles=colors.values(), labels=colors.keys(), loc='upper center', bbox_to_anchor=(0.5, 0.95), ncol=3)\n",
    "\n",
    "# Adjust the layout and spacing of the subplots\n",
    "fig.tight_layout(pad=3.0)\n",
    "plt.subplots_adjust(top=0.90)\n"
   ]
  },
  {
   "cell_type": "code",
   "execution_count": null,
   "metadata": {},
   "outputs": [],
   "source": [
    "# plot the grand average ERP for all channels\n",
    "erp = epochs_array['happy'].average()\n",
    "erp2 = epochs_array['sad'].average()\n",
    "erp3 = epochs_array['neutral'].average()\n",
    "\n",
    "colors = {'happy': 'blue', 'sad': 'red', 'neutral': 'green'}\n",
    "\n",
    "erp.plot(titles = 'Happy',spatial_colors= False)\n",
    "erp2.plot(titles = 'Sad')\n",
    "erp3.plot(titles = 'Neutral')"
   ]
  },
  {
   "cell_type": "code",
   "execution_count": null,
   "metadata": {},
   "outputs": [],
   "source": [
    "# Load preprocessed EEG data from a numpy file\n",
    "data = df_cleaned\n",
    "\n",
    "# Select a subset of channels and time points to visualize\n",
    "channels = [0, 1, 2, 3, 4, 5, 6, 7]\n",
    "time_points = range(10000, 50000)\n",
    "\n",
    "# Plot the EEG data\n",
    "fig, ax = plt.subplots(8,figsize=(12, 6))\n",
    "for i in channels:\n",
    "    ax[i].plot(data[[i]][:, time_points].T)\n",
    "    ax[i].set_xlabel('Time')\n",
    "    ax[i].set_ylabel('Amplitude')\n",
    "    ax[i].set_title('Channel '+str(i))\n",
    "plt.show()"
   ]
  },
  {
   "cell_type": "code",
   "execution_count": null,
   "metadata": {},
   "outputs": [],
   "source": [
    "def ttest_1samp_no_p(X, sigma=0.0, method='relative'):\n",
    "    var = np.var(X, axis=0)\n",
    "    if sigma > 0.0:\n",
    "        limit = sigma * np.max(var) if method == 'relative' else sigma\n",
    "        var += limit\n",
    "    t_vals = np.mean(X, axis=0) / np.sqrt(var / X.shape[0])\n",
    "    df = X.shape[0] - 1\n",
    "    return t_vals, df\n",
    "\n",
    "# Get the data from the epochs\n",
    "happy_epochs_data = happy_epochs.get_data()\n",
    "sad_epochs_data = sad_epochs.get_data()\n",
    "neutral_epochs_data = neutral_epochs.get_data()\n",
    "\n",
    "# Calculate the number of epochs\n",
    "n_epochs = happy_epochs_data.shape[0]\n",
    "\n",
    "# Perform t-test for happy epochs\n",
    "happy_t, happy_df = ttest_1samp_no_p(happy_epochs_data, n_epochs)\n",
    "\n",
    "# Perform t-test for sad epochs\n",
    "sad_t, sad_df = ttest_1samp_no_p(sad_epochs_data, n_epochs)\n",
    "\n",
    "# Perform t-test for neutral epochs\n",
    "neutral_t, neutral_df = ttest_1samp_no_p(neutral_epochs_data, n_epochs)\n",
    "\n",
    "# Print the t-values for each condition\n",
    "print(f\"Happy t-value: {happy_t}\")\n",
    "print(f\"Sad t-value: {sad_t}\")\n",
    "print(f\"Neutral t-value: {neutral_t}\")"
   ]
  },
  {
   "cell_type": "code",
   "execution_count": null,
   "metadata": {},
   "outputs": [],
   "source": [
    "# Calculate the average t-values for each condition\n",
    "happy_avg_t = np.mean(happy_t)\n",
    "sad_avg_t = np.mean(sad_t)\n",
    "neutral_avg_t = np.mean(neutral_t)\n",
    "\n",
    "# Print the average t-values for each condition\n",
    "print(f\"Happy average t-value: {happy_avg_t}\")\n",
    "print(f\"Sad average t-value: {sad_avg_t}\")\n",
    "print(f\"Neutral average t-value: {neutral_avg_t}\")"
   ]
  },
  {
   "cell_type": "code",
   "execution_count": null,
   "metadata": {},
   "outputs": [],
   "source": []
  }
 ],
 "metadata": {
  "kernelspec": {
   "display_name": "base",
   "language": "python",
   "name": "python3"
  },
  "language_info": {
   "codemirror_mode": {
    "name": "ipython",
    "version": 3
   },
   "file_extension": ".py",
   "mimetype": "text/x-python",
   "name": "python",
   "nbconvert_exporter": "python",
   "pygments_lexer": "ipython3",
   "version": "3.7.4"
  },
  "orig_nbformat": 4
 },
 "nbformat": 4,
 "nbformat_minor": 2
}
