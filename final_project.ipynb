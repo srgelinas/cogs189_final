{
 "cells": [
  {
   "attachments": {},
   "cell_type": "markdown",
   "metadata": {},
   "source": [
    "# COGS 189 Final Project"
   ]
  },
  {
   "attachments": {},
   "cell_type": "markdown",
   "metadata": {},
   "source": [
    "This project aims to </br>\n",
    "Group Members: \n",
    "Stephen Gelinas (A15816513)\n",
    "Aditya Tomar (A17162996)\n",
    "Shay Samat\n",
    "Rolando Restua\n",
    "Kevin Wong "
   ]
  },
  {
   "attachments": {},
   "cell_type": "markdown",
   "metadata": {},
   "source": [
    "## Data Loading"
   ]
  },
  {
   "attachments": {},
   "cell_type": "markdown",
   "metadata": {},
   "source": [
    "We will first load and inspect the raw EEG data we collected with OpenBCI"
   ]
  },
  {
   "cell_type": "code",
   "execution_count": null,
   "metadata": {},
   "outputs": [],
   "source": [
    "# required imoprts\n",
    "import pandas as pd\n",
    "from IPython.display import Image"
   ]
  },
  {
   "cell_type": "code",
   "execution_count": null,
   "metadata": {},
   "outputs": [],
   "source": [
    "# read EEG data\n",
    "df = pd.read_csv('data/eeg.txt')\n",
    "df.head()"
   ]
  },
  {
   "attachments": {},
   "cell_type": "markdown",
   "metadata": {},
   "source": [
    "There appears to be no missing values from the data collection process in the raw EEG data"
   ]
  },
  {
   "cell_type": "code",
   "execution_count": null,
   "metadata": {},
   "outputs": [],
   "source": [
    "# determine if any values are missing\n",
    "df.isna().sum()"
   ]
  },
  {
   "attachments": {},
   "cell_type": "markdown",
   "metadata": {},
   "source": [
    "The image below illustrates locations of the 8 selected channels for the data collection process (including GND and REF) "
   ]
  },
  {
   "cell_type": "code",
   "execution_count": null,
   "metadata": {},
   "outputs": [],
   "source": [
    "Image(\"data/channels.png\", width=400)"
   ]
  },
  {
   "attachments": {},
   "cell_type": "markdown",
   "metadata": {},
   "source": [
    "## Data Cleaning/Preprocessing"
   ]
  },
  {
   "cell_type": "code",
   "execution_count": null,
   "metadata": {},
   "outputs": [],
   "source": [
    "# \"Other\" channels that didn't collect EEG data\n",
    "df[[' Other', ' Other.7']].value_counts().to_frame(name='Total Count')"
   ]
  },
  {
   "cell_type": "code",
   "execution_count": null,
   "metadata": {},
   "outputs": [],
   "source": [
    "# \"Analog\" channels that didn't collect EEG data\n",
    "analog = [' Analog Channel 0', ' Analog Channel 1', ' Analog Channel 2']\n",
    "df[analog].value_counts().to_frame(name='Total Count')"
   ]
  },
  {
   "cell_type": "code",
   "execution_count": null,
   "metadata": {},
   "outputs": [],
   "source": [
    "# drop data from these channels\n",
    "dropped = [' Other', ' Other.7', ' Analog Channel 0', ' Analog Channel 1', ' Analog Channel 2']\n",
    "df_cleaned = df.drop(columns=dropped)"
   ]
  },
  {
   "cell_type": "code",
   "execution_count": null,
   "metadata": {},
   "outputs": [],
   "source": [
    "import pandas as pd\n",
    "import numpy as np\n",
    "import mne\n",
    "\n",
    "# Load the data as a pandas DataFrame\n",
    "df = pd.read_csv('data/eeg.txt')\n",
    "\n",
    "# Get the sampling frequency from the timestamps\n",
    "sfreq = 1 / np.mean(np.diff(df[' Timestamp']))\n",
    "\n",
    "# Convert the data to MNE format\n",
    "ch_names = df.columns[1:9].tolist()\n",
    "ch_types = ['eeg'] * len(ch_names)\n",
    "info = mne.create_info(ch_names=ch_names, sfreq=sfreq, ch_types=ch_types)\n",
    "data = df[ch_names].values.T.astype(np.float32)\n",
    "raw = mne.io.RawArray(data, info)"
   ]
  },
  {
   "cell_type": "code",
   "execution_count": null,
   "metadata": {},
   "outputs": [],
   "source": [
    "raw.plot()"
   ]
  },
  {
   "cell_type": "code",
   "execution_count": null,
   "metadata": {},
   "outputs": [],
   "source": [
    "# Plot raw PSD\n",
    "raw.plot_psd()"
   ]
  },
  {
   "cell_type": "code",
   "execution_count": null,
   "metadata": {},
   "outputs": [],
   "source": [
    "# Get the accelerometer data\n",
    "accelerometer_data = df[[' Accel Channel 0', ' Accel Channel 1', ' Accel Channel 2']].values.T.astype(np.float32)\n",
    "\n",
    "# Calculate the norm of the accelerometer data to get the overall acceleration\n",
    "acceleration = np.linalg.norm(accelerometer_data, axis=0)\n",
    "\n",
    "# Identify and remove segments with high acceleration (i.e. head movements)\n",
    "threshold = np.percentile(acceleration, 95)\n",
    "bad_segments = np.where(acceleration > threshold)[0]\n",
    "raw.annotations.append(bad_segments, [1] * len(bad_segments), 'bad')\n",
    "\n",
    "# Interpolate bad segments\n",
    "raw.interpolate_bads(reset_bads=True)\n",
    "\n",
    "# Apply high-pass filter to remove eye movements and remove slow drifts\n",
    "raw.filter(l_freq=1.0, h_freq=None)\n",
    "\n",
    "# Apply low-pass filter to remove eye blinks and high-frequency noise\n",
    "\n",
    "raw.filter(l_freq=0, h_freq=40.0)\n",
    "\n",
    "# Get the preprocessed data as a numpy array\n",
    "df_cleaned = raw.get_data()"
   ]
  },
  {
   "cell_type": "code",
   "execution_count": null,
   "metadata": {},
   "outputs": [],
   "source": [
    "raw.plot_psd()"
   ]
  },
  {
   "cell_type": "code",
   "execution_count": null,
   "metadata": {},
   "outputs": [],
   "source": [
    "# Set epoch length to 10 seconds\n",
    "epoch_length = 9.32\n",
    "\n",
    "# Create epochs from raw data\n",
    "epochs = mne.make_fixed_length_epochs(raw, duration=epoch_length, preload=True)\n",
    "epoch_data = epochs.get_data()\n",
    "epoch_data"
   ]
  },
  {
   "cell_type": "code",
   "execution_count": null,
   "metadata": {},
   "outputs": [],
   "source": [
    "# Optional: plot epochs to visualize the data\n",
    "epochs.plot(n_epochs=5)"
   ]
  },
  {
   "cell_type": "code",
   "execution_count": null,
   "metadata": {},
   "outputs": [],
   "source": [
    "# plot the grand average ERP for all channels\n",
    "erp = epochs.average()\n",
    "erp.plot()"
   ]
  },
  {
   "cell_type": "code",
   "execution_count": null,
   "metadata": {},
   "outputs": [],
   "source": []
  },
  {
   "cell_type": "code",
   "execution_count": null,
   "metadata": {},
   "outputs": [],
   "source": [
    "import numpy as np\n",
    "import matplotlib.pyplot as plt\n",
    "\n",
    "# Load preprocessed EEG data from a numpy file\n",
    "data = df_cleaned\n",
    "\n",
    "# Select a subset of channels and time points to visualize\n",
    "channels = [0, 1, 2, 3, 4, 5, 6, 7]\n",
    "time_points = range(20000, 50000)\n",
    "\n",
    "# Plot the EEG data\n",
    "fig, ax = plt.subplots(figsize=(12, 6))\n",
    "ax.plot(data[channels][:, time_points].T)\n",
    "ax.set_xlabel('Time')\n",
    "ax.set_ylabel('Amplitude')\n",
    "ax.set_title('Preprocessed EEG Data')\n",
    "ax.legend(['Channel {}'.format(i) for i in channels])\n",
    "plt.show()"
   ]
  },
  {
   "cell_type": "code",
   "execution_count": null,
   "metadata": {},
   "outputs": [],
   "source": []
  },
  {
   "cell_type": "code",
   "execution_count": null,
   "metadata": {},
   "outputs": [],
   "source": [
    "def extract_amplitude(epochs):\n",
    "    \"\"\"Extracts amplitude features from EEG epochs across different frequencies.\n",
    "    \n",
    "    Parameters\n",
    "    ----------\n",
    "    epochs : mne.Epochs\n",
    "        Epochs object containing the EEG data.\n",
    "    \n",
    "    Returns\n",
    "    -------\n",
    "    dict\n",
    "        Dictionary containing the average amplitude values for delta (0-4 Hz), \n",
    "        theta (4-8 Hz), alpha (8-12 Hz), beta (12-30 Hz), and gamma (30-100 Hz) \n",
    "        frequencies for each channel.\n",
    "    \"\"\"\n",
    "    # Define frequency bands of interest\n",
    "    freq_bands = {'Delta': (0, 4),\n",
    "                  'Theta': (4, 8),\n",
    "                  'Alpha': (8, 12),\n",
    "                  'Beta': (12, 30),\n",
    "                  'Gamma': (30, 100)}\n",
    "    \n",
    "    # Initialize dictionary to store amplitude features\n",
    "    amp_features = {}\n",
    "    \n",
    "    # Loop over frequency bands and channels to compute average amplitudes\n",
    "    for band, (fmin, fmax) in freq_bands.items():\n",
    "        for ch in epochs.ch_names:\n",
    "            # Extract epochs and compute average amplitude for current band and channel\n",
    "            band_epochs = epochs.copy().filter(fmin, fmax, picks=ch)\n",
    "            avg_amp = np.mean(np.abs(band_epochs.get_data()), axis=(0, 2))\n",
    "            # Add average amplitude to dictionary\n",
    "            if ch not in amp_features:\n",
    "                amp_features[ch] = {}\n",
    "            amp_features[ch][band] = avg_amp\n",
    "            amp_features\n",
    "    \n",
    "    return amp_features"
   ]
  },
  {
   "cell_type": "code",
   "execution_count": null,
   "metadata": {},
   "outputs": [],
   "source": [
    "extract_amplitude(epochs)"
   ]
  },
  {
   "cell_type": "code",
   "execution_count": null,
   "metadata": {},
   "outputs": [],
   "source": [
    "def extract_time_frequency(epochs):\n",
    "    \"\"\"Extract time-frequency features from epochs data.\"\"\"\n",
    "    # Define frequency bands of interest\n",
    "    freq_bands = {'theta': [4, 8],\n",
    "                  'alpha': [8, 12],\n",
    "                  'beta': [12, 30],\n",
    "                  'gamma': [30, 80]}\n",
    "\n",
    "    # Extract time-frequency data using Morlet wavelets\n",
    "    power = mne.time_frequency.tfr_morlet(epochs, n_cycles=2, freqs=np.arange(2, 81, 2),\n",
    "                                          use_fft=True, return_itc=False, decim=2, n_jobs=1)\n",
    "    \n",
    "    # Compute the average power in each frequency band\n",
    "    tf_features = dict()\n",
    "    for band, freq_limits in freq_bands.items():\n",
    "        freq_mask = np.logical_and(power.freqs >= freq_limits[0], power.freqs < freq_limits[1])\n",
    "        band_power = power.data[:, freq_mask, :].mean(axis=1)\n",
    "        tf_features[band] = band_power\n",
    "\n",
    "    return tf_features\n"
   ]
  },
  {
   "cell_type": "code",
   "execution_count": null,
   "metadata": {},
   "outputs": [],
   "source": [
    "extract_time_frequency(epochs)"
   ]
  },
  {
   "attachments": {},
   "cell_type": "markdown",
   "metadata": {},
   "source": [
    "waiting for event id"
   ]
  },
  {
   "cell_type": "code",
   "execution_count": null,
   "metadata": {},
   "outputs": [],
   "source": [
    "def extract_ersp(epochs, event_id):\n",
    "    \"\"\"Extracts event-related spectral perturbation (ERSP) from EEG epochs for a specific event type.\n",
    "    \n",
    "    Parameters\n",
    "    ----------\n",
    "    epochs : mne.Epochs\n",
    "        Epochs object containing the EEG data.\n",
    "    event_id : int\n",
    "        The ID of the event type to calculate ERSP for.\n",
    "    \n",
    "    Returns\n",
    "    -------\n",
    "    dict\n",
    "        Dictionary containing the ERSP values for each frequency and time point.\n",
    "    \"\"\"\n",
    "    # Define frequency range and number of cycles for Morlet wavelet\n",
    "    freqs = np.logspace(*np.log10([3, 35]), num=8)\n",
    "    n_cycles = freqs / 2.\n",
    "\n",
    "    # Calculate ERSP using Morlet wavelets\n",
    "    power, itc = mne.time_frequency.tfr_morlet(epochs[event_id], freqs=freqs, n_cycles=n_cycles,\n",
    "                                               return_itc=True, average=True, n_jobs=1)\n",
    "    \n",
    "    # Get time and frequency information\n",
    "    times = epochs.times\n",
    "    frequencies = power.freqs\n",
    "\n",
    "    # Return ERSP values as dictionary\n",
    "    return {'times': times, 'frequencies': frequencies, 'power': power.data}\n"
   ]
  },
  {
   "cell_type": "code",
   "execution_count": null,
   "metadata": {},
   "outputs": [],
   "source": [
    "import numpy as np\n",
    "import matplotlib.pyplot as plt\n",
    "from mne.time_frequency import psd_array_welch\n",
    "\n",
    "def extract_power_spectrum(epochs):\n",
    "    \"\"\"Extracts power spectrum features from EEG epochs across different frequency bands.\n",
    "    \n",
    "    Parameters\n",
    "    ----------\n",
    "    epochs : mne.Epochs\n",
    "        Epochs object containing the EEG data.\n",
    "    \n",
    "    Returns\n",
    "    -------\n",
    "    dict\n",
    "        Dictionary containing the power spectrum values for delta (0-4 Hz), theta (4-8 Hz), \n",
    "        alpha (8-12 Hz), beta (12-30 Hz), and gamma (30-100 Hz).\n",
    "    \"\"\"\n",
    "    freqs = {'delta': (0, 4), 'theta': (4, 8), 'alpha': (8, 12), 'beta': (12, 30), 'gamma': (30, 100)}\n",
    "    power_spectrum, freq_axis = psd_array_welch(epochs._data, epochs.info['sfreq'], fmin=0, fmax=100, n_fft=2048, \n",
    "                                                n_jobs=1, average='median', window='hann', verbose=None)\n",
    "    power_dict = {}\n",
    "    for key, value in freqs.items():\n",
    "        idx = np.where(np.logical_and(freq_axis >= value[0], freq_axis <= value[1]))[0]\n",
    "        power_dict[key] = np.mean(power_spectrum[:, 7], axis=1)\n",
    "    \n",
    "    return power_dict\n"
   ]
  },
  {
   "cell_type": "code",
   "execution_count": null,
   "metadata": {},
   "outputs": [],
   "source": []
  },
  {
   "cell_type": "code",
   "execution_count": null,
   "metadata": {},
   "outputs": [],
   "source": []
  },
  {
   "cell_type": "code",
   "execution_count": null,
   "metadata": {},
   "outputs": [],
   "source": []
  }
 ],
 "metadata": {
  "kernelspec": {
   "display_name": "base",
   "language": "python",
   "name": "python3"
  },
  "language_info": {
   "codemirror_mode": {
    "name": "ipython",
    "version": 3
   },
   "file_extension": ".py",
   "mimetype": "text/x-python",
   "name": "python",
   "nbconvert_exporter": "python",
   "pygments_lexer": "ipython3",
   "version": "3.7.4"
  },
  "orig_nbformat": 4
 },
 "nbformat": 4,
 "nbformat_minor": 2
}
