{
 "cells": [
  {
   "attachments": {},
   "cell_type": "markdown",
   "metadata": {},
   "source": [
    "# COGS 189 Final Project"
   ]
  },
  {
   "attachments": {},
   "cell_type": "markdown",
   "metadata": {},
   "source": [
    "This project aims to </br>\n",
    "Group Members: \n",
    "Stephen Gelinas (A15816513)\n",
    "Aditya Tomar (A17162996)\n",
    "Shay Samat\n",
    "Rolando Restua\n",
    "Kevin Wong "
   ]
  },
  {
   "attachments": {},
   "cell_type": "markdown",
   "metadata": {},
   "source": [
    "## Data Loading"
   ]
  },
  {
   "attachments": {},
   "cell_type": "markdown",
   "metadata": {},
   "source": [
    "We will first load and inspect the raw EEG data we collected with OpenBCI"
   ]
  },
  {
   "cell_type": "code",
   "execution_count": null,
   "metadata": {},
   "outputs": [],
   "source": [
    "# required imoprts\n",
    "import pandas as pd\n",
    "from IPython.display import Image"
   ]
  },
  {
   "cell_type": "code",
   "execution_count": null,
   "metadata": {},
   "outputs": [],
   "source": [
    "# read EEG data\n",
    "df = pd.read_csv('data/eeg.txt')\n",
    "df.head()"
   ]
  },
  {
   "attachments": {},
   "cell_type": "markdown",
   "metadata": {},
   "source": [
    "There appears to be no missing values from the data collection process in the raw EEG data"
   ]
  },
  {
   "cell_type": "code",
   "execution_count": null,
   "metadata": {},
   "outputs": [],
   "source": [
    "# determine if any values are missing\n",
    "df.isna().sum()"
   ]
  },
  {
   "attachments": {},
   "cell_type": "markdown",
   "metadata": {},
   "source": [
    "The image below illustrates locations of the 8 selected channels for the data collection process (including GND and REF) "
   ]
  },
  {
   "cell_type": "code",
   "execution_count": null,
   "metadata": {},
   "outputs": [],
   "source": [
    "Image(\"data/channels.png\", width=400)"
   ]
  },
  {
   "attachments": {},
   "cell_type": "markdown",
   "metadata": {},
   "source": [
    "## Data Cleaning/Preprocessing"
   ]
  },
  {
   "cell_type": "code",
   "execution_count": null,
   "metadata": {},
   "outputs": [],
   "source": [
    "# \"Other\" channels that didn't collect EEG data\n",
    "df[[' Other', ' Other.7']].value_counts().to_frame(name='Total Count')"
   ]
  },
  {
   "cell_type": "code",
   "execution_count": null,
   "metadata": {},
   "outputs": [],
   "source": [
    "# \"Analog\" channels that didn't collect EEG data\n",
    "analog = [' Analog Channel 0', ' Analog Channel 1', ' Analog Channel 2']\n",
    "df[analog].value_counts().to_frame(name='Total Count')"
   ]
  },
  {
   "cell_type": "code",
   "execution_count": null,
   "metadata": {},
   "outputs": [],
   "source": [
    "# drop data from these channels\n",
    "dropped = [' Other', ' Other.7', ' Analog Channel 0', ' Analog Channel 1', ' Analog Channel 2']\n",
    "df_cleaned = df.drop(columns=dropped)"
   ]
  },
  {
   "cell_type": "code",
   "execution_count": null,
   "metadata": {},
   "outputs": [],
   "source": [
    "import pandas as pd\n",
    "import numpy as np\n",
    "import mne\n",
    "\n",
    "# Load the data as a pandas DataFrame\n",
    "df = pd.read_csv('data/eeg.txt')\n",
    "\n",
    "# Get the sampling frequency from the timestamps\n",
    "sfreq = 1 / np.mean(np.diff(df[' Timestamp']))\n",
    "\n",
    "# Convert the data to MNE format\n",
    "ch_names = df.columns[1:9].tolist()\n",
    "ch_types = ['eeg'] * len(ch_names)\n",
    "info = mne.create_info(ch_names=ch_names, sfreq=sfreq, ch_types=ch_types)\n",
    "data = df[ch_names].values.T.astype(np.float32)\n",
    "raw = mne.io.RawArray(data, info)\n",
    "\n",
    "# Apply high-pass filter to remove eye movements\n",
    "raw.filter(l_freq=1.0, h_freq=None)\n",
    "\n",
    "# Apply low-pass filter to remove eye blinks\n",
    "raw.filter(l_freq=None, h_freq=40.0)\n",
    "\n",
    "# Get the preprocessed data as a numpy array\n",
    "df_cleaned = raw.get_data()"
   ]
  },
  {
   "cell_type": "code",
   "execution_count": null,
   "metadata": {},
   "outputs": [],
   "source": [
    "# Get the accelerometer data\n",
    "accelerometer_data = df[[' Accel Channel 0', ' Accel Channel 1', ' Accel Channel 2']].values.T.astype(np.float32)\n",
    "\n",
    "# Calculate the norm of the accelerometer data to get the overall acceleration\n",
    "acceleration = np.linalg.norm(accelerometer_data, axis=0)\n",
    "\n",
    "# Identify and remove segments with high acceleration (i.e. head movements)\n",
    "threshold = np.percentile(acceleration, 95)\n",
    "bad_segments = np.where(acceleration > threshold)[0]\n",
    "raw.annotations.append(bad_segments, [1] * len(bad_segments), 'bad')\n",
    "\n",
    "# Interpolate bad segments\n",
    "raw.interpolate_bads(reset_bads=True)\n",
    "\n",
    "# Apply high-pass filter to remove slow drifts\n",
    "raw.filter(l_freq=1.0, h_freq=None)\n",
    "\n",
    "# Apply low-pass filter to remove high-frequency noise\n",
    "raw.filter(l_freq=None, h_freq=40.0)\n",
    "\n",
    "# Get the preprocessed data as a numpy array\n",
    "df_cleaned = raw.get_data()"
   ]
  },
  {
   "cell_type": "code",
   "execution_count": null,
   "metadata": {},
   "outputs": [],
   "source": [
    "import numpy as np\n",
    "import matplotlib.pyplot as plt\n",
    "\n",
    "# Load preprocessed EEG data from a numpy file\n",
    "data = df_cleaned\n",
    "\n",
    "# Select a subset of channels and time points to visualize\n",
    "channels = [0, 1, 2, 3, 4, 5, 6, 7]\n",
    "time_points = range(20000, 50000)\n",
    "\n",
    "# Plot the EEG data\n",
    "fig, ax = plt.subplots(figsize=(12, 6))\n",
    "ax.plot(data[channels][:, time_points].T)\n",
    "ax.set_xlabel('Time')\n",
    "ax.set_ylabel('Amplitude')\n",
    "ax.set_title('Preprocessed EEG Data')\n",
    "ax.legend(['Channel {}'.format(i) for i in channels])\n",
    "plt.show()"
   ]
  },
  {
   "cell_type": "code",
   "execution_count": null,
   "metadata": {},
   "outputs": [],
   "source": []
  },
  {
   "cell_type": "code",
   "execution_count": null,
   "metadata": {},
   "outputs": [],
   "source": []
  }
 ],
 "metadata": {
  "kernelspec": {
   "display_name": "base",
   "language": "python",
   "name": "python3"
  },
  "language_info": {
   "codemirror_mode": {
    "name": "ipython",
    "version": 3
   },
   "file_extension": ".py",
   "mimetype": "text/x-python",
   "name": "python",
   "nbconvert_exporter": "python",
   "pygments_lexer": "ipython3",
   "version": "3.7.4"
  },
  "orig_nbformat": 4
 },
 "nbformat": 4,
 "nbformat_minor": 2
}
